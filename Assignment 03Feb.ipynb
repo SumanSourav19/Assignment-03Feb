{
 "cells": [
  {
   "cell_type": "markdown",
   "id": "2ebbbd54-50db-4473-baa6-25451af88de6",
   "metadata": {},
   "source": [
    "1. Which keyword is used to create a function? Create a function to return a list of odd numbers in the range of 1 to 25."
   ]
  },
  {
   "cell_type": "markdown",
   "id": "ba9357b9-153b-4cd3-9a92-cb24d0785c16",
   "metadata": {},
   "source": [
    "Ans) The def keyword is used to create, (or define) a function.\n"
   ]
  },
  {
   "cell_type": "code",
   "execution_count": 2,
   "id": "117330dc-6898-45f8-b510-7bacf6be2b67",
   "metadata": {},
   "outputs": [
    {
     "name": "stdout",
     "output_type": "stream",
     "text": [
      "[1, 3, 5, 7, 9, 11, 13, 15, 17, 19, 21, 23, 25]\n"
     ]
    }
   ],
   "source": [
    "def odd_numbers(n):\n",
    "    return [x for x in range(1,26) if x % 2 == 1]\n",
    "\n",
    "print(odd_numbers(25))  \n"
   ]
  },
  {
   "cell_type": "markdown",
   "id": "73d32b5f-2d8e-47c4-9ece-fac17903d165",
   "metadata": {},
   "source": [
    "Q2. Why *args and **kwargs is used in some functions? Create a function each for *args and **kwargs\n",
    "to demonstrate their use."
   ]
  },
  {
   "cell_type": "markdown",
   "id": "6952c150-0ca7-4ffe-a17d-61c45ac6cf4f",
   "metadata": {},
   "source": [
    "Ans) *args specifies the number of non-keyworded arguments that can be passed and the operations that can be performed on the function in Python whereas **kwargs is a variable number of keyworded arguments that can be passed to a function that can perform dictionary operations. "
   ]
  },
  {
   "cell_type": "code",
   "execution_count": 2,
   "id": "2128eccf-76f3-400a-b3f4-e37ba21388b0",
   "metadata": {},
   "outputs": [],
   "source": [
    "def test(*args):\n",
    "    return args"
   ]
  },
  {
   "cell_type": "code",
   "execution_count": 3,
   "id": "1be353f1-a6bd-4799-bd47-7ca941955dc8",
   "metadata": {},
   "outputs": [
    {
     "data": {
      "text/plain": [
       "(1, 5, 8, 9, 'pwskills', [1, 2, 3, 4])"
      ]
     },
     "execution_count": 3,
     "metadata": {},
     "output_type": "execute_result"
    }
   ],
   "source": [
    "test(1,5,8,9, \"pwskills\", [1,2,3,4])"
   ]
  },
  {
   "cell_type": "code",
   "execution_count": 5,
   "id": "60cdc34c-f063-47eb-861c-7bd31dcf5335",
   "metadata": {},
   "outputs": [],
   "source": [
    "def test1(**kwargs):\n",
    "    return kwargs"
   ]
  },
  {
   "cell_type": "code",
   "execution_count": 6,
   "id": "39b09c39-d963-4703-8e20-6c47a2f6aa43",
   "metadata": {},
   "outputs": [
    {
     "data": {
      "text/plain": [
       "{'a': [1, 3, 7, 9], 'b': 'pwskills', 'c': 569.87}"
      ]
     },
     "execution_count": 6,
     "metadata": {},
     "output_type": "execute_result"
    }
   ],
   "source": [
    "test1(a=[1,3,7,9], b= \"pwskills\", c= 569.87)"
   ]
  },
  {
   "cell_type": "markdown",
   "id": "fb08f7cd-4253-4305-87bf-ef34fe879339",
   "metadata": {},
   "source": [
    "3. What is an iterator in python? Name the method used to initialise the iterator object and the method \n",
    "used for iteration. Use these methods to print the first five elements of the given list [2, 4, 6, 8, 10, 12, 14,\n",
    "16, 18, 20]."
   ]
  },
  {
   "cell_type": "markdown",
   "id": "45c50c24-5277-46a5-8580-028ca31bb17b",
   "metadata": {},
   "source": [
    "Ans) Iterator in Python is an object that is used to iterate over iterable objects like lists, tuples, dicts, and sets. The iterator object is initialized using the iter() method. It uses the next() method for iteration. __next__(). The next method returns the next value for the iterable."
   ]
  },
  {
   "cell_type": "code",
   "execution_count": 1,
   "id": "9cd60248-befa-4348-a263-2420a9df60a8",
   "metadata": {},
   "outputs": [],
   "source": [
    "l= [2,4,6,8,10,12,14,16,18,20]"
   ]
  },
  {
   "cell_type": "code",
   "execution_count": 2,
   "id": "ed00f4b6-20fb-42ab-aca8-520eae2a7012",
   "metadata": {},
   "outputs": [],
   "source": [
    "s=iter(l)"
   ]
  },
  {
   "cell_type": "code",
   "execution_count": 3,
   "id": "63d0a9f7-a728-4d3b-a38e-3e82d76f0da5",
   "metadata": {},
   "outputs": [
    {
     "data": {
      "text/plain": [
       "2"
      ]
     },
     "execution_count": 3,
     "metadata": {},
     "output_type": "execute_result"
    }
   ],
   "source": [
    "next(s)"
   ]
  },
  {
   "cell_type": "code",
   "execution_count": 4,
   "id": "17084a93-f46e-42e1-a68e-ebc1a68851f7",
   "metadata": {},
   "outputs": [
    {
     "data": {
      "text/plain": [
       "4"
      ]
     },
     "execution_count": 4,
     "metadata": {},
     "output_type": "execute_result"
    }
   ],
   "source": [
    "next(s)"
   ]
  },
  {
   "cell_type": "code",
   "execution_count": 5,
   "id": "fe1b1bd1-c729-44cc-8e62-67cce8656e07",
   "metadata": {},
   "outputs": [
    {
     "data": {
      "text/plain": [
       "6"
      ]
     },
     "execution_count": 5,
     "metadata": {},
     "output_type": "execute_result"
    }
   ],
   "source": [
    "next(s)"
   ]
  },
  {
   "cell_type": "code",
   "execution_count": 6,
   "id": "5528b5c8-dfea-4770-98fb-1ecf6d86da1d",
   "metadata": {},
   "outputs": [
    {
     "data": {
      "text/plain": [
       "8"
      ]
     },
     "execution_count": 6,
     "metadata": {},
     "output_type": "execute_result"
    }
   ],
   "source": [
    "next(s)"
   ]
  },
  {
   "cell_type": "code",
   "execution_count": 7,
   "id": "09ca0422-be6a-4c5c-ae52-fea8622f6d68",
   "metadata": {},
   "outputs": [
    {
     "data": {
      "text/plain": [
       "10"
      ]
     },
     "execution_count": 7,
     "metadata": {},
     "output_type": "execute_result"
    }
   ],
   "source": [
    "next(s)"
   ]
  },
  {
   "cell_type": "markdown",
   "id": "d85e2136-ff9c-44a8-ae64-e1941fa60481",
   "metadata": {},
   "source": [
    "4. What is a generator function in python? Why yield keyword is used? Give an example of a generator\n",
    "function."
   ]
  },
  {
   "cell_type": "markdown",
   "id": "6a473484-0b14-40e0-acb5-73010fdf10bc",
   "metadata": {},
   "source": [
    "Ans) In Python, generator functions are those functions that, instead of returning a single value, return an iterable generator object\n"
   ]
  },
  {
   "cell_type": "code",
   "execution_count": 10,
   "id": "ab323467-184c-499e-af43-fcf4087e9438",
   "metadata": {},
   "outputs": [],
   "source": [
    "def count_test(n):\n",
    "    count=1\n",
    "    while count <=n:\n",
    "        yield count\n",
    "        count=count+1"
   ]
  },
  {
   "cell_type": "code",
   "execution_count": 11,
   "id": "ef1f56dd-4cb0-40a5-8886-ce83461ccc3e",
   "metadata": {},
   "outputs": [],
   "source": [
    "c= count_test(5)"
   ]
  },
  {
   "cell_type": "code",
   "execution_count": 12,
   "id": "feaa17c3-bca6-408f-a5fb-ae407a16ae25",
   "metadata": {},
   "outputs": [
    {
     "name": "stdout",
     "output_type": "stream",
     "text": [
      "1\n",
      "2\n",
      "3\n",
      "4\n",
      "5\n"
     ]
    }
   ],
   "source": [
    "for i in c:\n",
    "    print(i)"
   ]
  },
  {
   "cell_type": "markdown",
   "id": "368af5d2-e7f0-4808-85f0-3fd2019747ae",
   "metadata": {},
   "source": [
    "5. Create a generator function for prime numbers less than 1000. Use the next() method to print the\n",
    "first 20 prime numbers."
   ]
  },
  {
   "cell_type": "code",
   "execution_count": 46,
   "id": "57e1fd5c-1dd3-40f2-8ff1-8e06d58e2118",
   "metadata": {},
   "outputs": [
    {
     "name": "stdout",
     "output_type": "stream",
     "text": [
      "2\n",
      "3\n",
      "5\n",
      "7\n",
      "11\n",
      "13\n",
      "17\n",
      "19\n",
      "23\n",
      "29\n",
      "31\n",
      "37\n",
      "41\n",
      "43\n",
      "47\n",
      "53\n",
      "59\n",
      "61\n",
      "67\n",
      "71\n"
     ]
    }
   ],
   "source": [
    "def prime_number():\n",
    "    i_prime = []\n",
    "    for k in range(2,1000):\n",
    "        for p in i_prime:\n",
    "            if k % p == 0:\n",
    "                break\n",
    "        else:\n",
    "            i_prime.append(k)\n",
    "            yield k\n",
    "            \n",
    "n = prime_number()\n",
    "for i in range(20):\n",
    "    print(next(n), sep=\"\")\n",
    "        \n",
    "    "
   ]
  },
  {
   "cell_type": "markdown",
   "id": "35cd6656-aae1-4731-928c-f7b8bdcf2bd8",
   "metadata": {},
   "source": [
    "6.Write a python program to print the first 10 Fibonacci numbers using a while loop."
   ]
  },
  {
   "cell_type": "code",
   "execution_count": 49,
   "id": "843a6eaa-27f9-4fa4-977f-2c3ad47b27fe",
   "metadata": {},
   "outputs": [
    {
     "name": "stdin",
     "output_type": "stream",
     "text": [
      "Enter the number 10\n"
     ]
    },
    {
     "name": "stdout",
     "output_type": "stream",
     "text": [
      "0\n",
      "1\n",
      "1\n",
      "2\n",
      "3\n",
      "5\n",
      "8\n",
      "13\n",
      "21\n",
      "34\n"
     ]
    }
   ],
   "source": [
    "number= int(input(\"Enter the number\"))\n",
    "a,b =0,1\n",
    "counter=0\n",
    "while counter<number:\n",
    "    print(a)\n",
    "    c=a+b\n",
    "    a=b\n",
    "    b=c\n",
    "    counter=counter+1"
   ]
  },
  {
   "cell_type": "markdown",
   "id": "9f6154a6-87c2-4709-89a1-44f7cfedb802",
   "metadata": {},
   "source": [
    "7.Write a List Comprehension to iterate through the given string: ‘pwskills’.\n",
    "Expected output: ['p', 'w', 's', 'k', 'i', 'l', 'l', 's']"
   ]
  },
  {
   "cell_type": "code",
   "execution_count": 50,
   "id": "4a8441a6-c0f0-4ce9-97f4-b832001d7fc6",
   "metadata": {},
   "outputs": [],
   "source": [
    "s= \"pwskills\""
   ]
  },
  {
   "cell_type": "code",
   "execution_count": 51,
   "id": "dfa83c30-905b-4027-99a8-e7d598e77a18",
   "metadata": {},
   "outputs": [
    {
     "data": {
      "text/plain": [
       "['p', 'w', 's', 'k', 'i', 'l', 'l', 's']"
      ]
     },
     "execution_count": 51,
     "metadata": {},
     "output_type": "execute_result"
    }
   ],
   "source": [
    "[i for i in s]"
   ]
  },
  {
   "cell_type": "markdown",
   "id": "5b243a7c-7f29-4991-bacf-07b0fcac7123",
   "metadata": {},
   "source": [
    "8.Write a python program to check whether a given number is Palindrome or not using a while loop."
   ]
  },
  {
   "cell_type": "code",
   "execution_count": 60,
   "id": "7bf69703-eceb-4be6-9b74-b77581e39915",
   "metadata": {},
   "outputs": [
    {
     "name": "stdin",
     "output_type": "stream",
     "text": [
      "Enter a value 1221\n"
     ]
    },
    {
     "name": "stdout",
     "output_type": "stream",
     "text": [
      "This value is a palindrome number!\n"
     ]
    }
   ],
   "source": [
    "num = int(input(\"Enter a value\"))  \n",
    "temp = num  \n",
    "rev = 0  \n",
    "while(num > 0):  \n",
    "    dig = num % 10  \n",
    "    rev = rev * 10 + dig  \n",
    "    num = num // 10  \n",
    "if(temp == rev):  \n",
    "    print(\"This value is a palindrome number!\")  \n",
    "else:  \n",
    "    print(\"This value is not a palindrome number!\")  "
   ]
  },
  {
   "cell_type": "markdown",
   "id": "29a69984-23b6-46de-a139-18e289539a56",
   "metadata": {},
   "source": [
    "9.Write a code to print odd numbers from 1 to 100 using list comprehension."
   ]
  },
  {
   "cell_type": "code",
   "execution_count": 61,
   "id": "2fa33798-0b84-4a48-8f3d-a5ddc3dca86f",
   "metadata": {},
   "outputs": [],
   "source": [
    "list= list(range(0,101))"
   ]
  },
  {
   "cell_type": "code",
   "execution_count": 64,
   "id": "686fc110-49bd-4c55-8e4e-ad0e82ff6763",
   "metadata": {},
   "outputs": [
    {
     "data": {
      "text/plain": [
       "[1,\n",
       " 3,\n",
       " 5,\n",
       " 7,\n",
       " 9,\n",
       " 11,\n",
       " 13,\n",
       " 15,\n",
       " 17,\n",
       " 19,\n",
       " 21,\n",
       " 23,\n",
       " 25,\n",
       " 27,\n",
       " 29,\n",
       " 31,\n",
       " 33,\n",
       " 35,\n",
       " 37,\n",
       " 39,\n",
       " 41,\n",
       " 43,\n",
       " 45,\n",
       " 47,\n",
       " 49,\n",
       " 51,\n",
       " 53,\n",
       " 55,\n",
       " 57,\n",
       " 59,\n",
       " 61,\n",
       " 63,\n",
       " 65,\n",
       " 67,\n",
       " 69,\n",
       " 71,\n",
       " 73,\n",
       " 75,\n",
       " 77,\n",
       " 79,\n",
       " 81,\n",
       " 83,\n",
       " 85,\n",
       " 87,\n",
       " 89,\n",
       " 91,\n",
       " 93,\n",
       " 95,\n",
       " 97,\n",
       " 99]"
      ]
     },
     "execution_count": 64,
     "metadata": {},
     "output_type": "execute_result"
    }
   ],
   "source": [
    "[i for i in list if i%2!=0]"
   ]
  },
  {
   "cell_type": "code",
   "execution_count": null,
   "id": "991deedc-c5a0-41f2-a85a-b58e1fc146d9",
   "metadata": {},
   "outputs": [],
   "source": []
  }
 ],
 "metadata": {
  "kernelspec": {
   "display_name": "Python 3 (ipykernel)",
   "language": "python",
   "name": "python3"
  },
  "language_info": {
   "codemirror_mode": {
    "name": "ipython",
    "version": 3
   },
   "file_extension": ".py",
   "mimetype": "text/x-python",
   "name": "python",
   "nbconvert_exporter": "python",
   "pygments_lexer": "ipython3",
   "version": "3.10.8"
  }
 },
 "nbformat": 4,
 "nbformat_minor": 5
}
